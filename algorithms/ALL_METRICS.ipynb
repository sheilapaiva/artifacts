{
  "cells": [
    {
      "cell_type": "code",
      "execution_count": null,
      "metadata": {
        "id": "HhpEJVT1pjw5"
      },
      "outputs": [],
      "source": [
        "!pip install skforecast"
      ]
    },
    {
      "cell_type": "code",
      "execution_count": null,
      "metadata": {
        "id": "nceMfK3EqIRX"
      },
      "outputs": [],
      "source": [
        "!pip install pmdarima"
      ]
    },
    {
      "cell_type": "code",
      "execution_count": null,
      "metadata": {
        "id": "nHd_BDFDG6ou"
      },
      "outputs": [],
      "source": [
        "import pandas as pd\n",
        "import numpy as np\n",
        "import time\n",
        "from sklearn.metrics import mean_absolute_error, mean_squared_error, mean_squared_log_error,median_absolute_error,r2_score\n",
        "from datetime import datetime"
      ]
    },
    {
      "cell_type": "code",
      "execution_count": null,
      "metadata": {
        "id": "o3ldqF_iKrCq"
      },
      "outputs": [],
      "source": [
        "from redes_neurais_recorrentes import prediction_rnn\n",
        "from redes_neurais_convolucionais import prediction_cnn"
      ]
    },
    {
      "cell_type": "code",
      "execution_count": null,
      "metadata": {
        "id": "D2aKGzgvtLC-"
      },
      "outputs": [],
      "source": [
        "df_api1 = pd.read_csv(\"api_1.csv\")\n",
        "df_api2 = pd.read_csv(\"api_2.csv\")\n",
        "df_api3 = pd.read_csv(\"api_3.csv\")\n",
        "df_api4 = pd.read_csv(\"api_4.csv\")\n",
        "df_api5 = pd.read_csv(\"api_5.csv\")\n",
        "df_api6 = pd.read_csv(\"api_6.csv\")\n",
        "df_api7 = pd.read_csv(\"api_7.csv\")\n",
        "df_api8 = pd.read_csv(\"api_8.csv\")\n",
        "df_api9 = pd.read_csv(\"api_9.csv\")"
      ]
    },
    {
      "cell_type": "code",
      "execution_count": null,
      "metadata": {
        "id": "5YqKfJQvJkGk"
      },
      "outputs": [],
      "source": [
        "lista_dfs = [df_api1, df_api2, df_api3, df_api4, df_api5, df_api6, df_api7, df_api8, df_api9]"
      ]
    },
    {
      "cell_type": "code",
      "execution_count": null,
      "metadata": {
        "id": "aILABGrRtRJ1"
      },
      "outputs": [],
      "source": [
        "def pre_processamento(df):\n",
        "  df.dropna(inplace=True)\n",
        "  df.columns = ['timestamp', 'cpu', 'memory', 'request', 'latency']\n",
        "  df['timestamp'] = df['timestamp'].apply(lambda x: datetime.strptime(x, '%Y-%m-%d %H:%M'))\n",
        "\n",
        "  return df"
      ]
    },
    {
      "cell_type": "code",
      "execution_count": null,
      "metadata": {
        "id": "22_hFDI4KqkJ"
      },
      "outputs": [],
      "source": [
        "results = pd.DataFrame(columns=['API', 'metrica',\t'modelo', 'mae', 'rmse', 'r2_score',\t'tempo'])"
      ]
    },
    {
      "cell_type": "code",
      "execution_count": null,
      "metadata": {
        "id": "JApo0cC9J24_"
      },
      "outputs": [],
      "source": [
        "api = 0\n",
        "linha = -1\n",
        "for df in lista_dfs:\n",
        "\n",
        "  api = api + 1\n",
        "\n",
        "  df = pre_processamento(df)\n",
        "\n",
        "  #Redes Naurais Recorrentes\n",
        "\n",
        "  #CPU\n",
        "  start_cpu = time.time()\n",
        "  predictions_cpu, test_cpu = prediction_rnn(df, 'cpu', 100)\n",
        "  end_cpu = time.time()\n",
        "\n",
        "  linha = linha + 1\n",
        "  results.loc[linha]=[ 'API '+str(api), 'CPU', 'Redes Naurais Recorrentes',\n",
        "                      mean_absolute_error(test_cpu, predictions_cpu),\n",
        "                      mean_squared_error(test_cpu, predictions_cpu),\n",
        "                      r2_score(test_cpu, predictions_cpu), end_cpu-start_cpu ]\n",
        "\n",
        "  #Memory\n",
        "  start_memory = time.time()\n",
        "  predictions_memory, test_memory = prediction_rnn(df, 'memory', 100)\n",
        "  end_memory = time.time()\n",
        "\n",
        "  linha = linha + 1\n",
        "  results.loc[linha]=[ 'API '+str(api), 'Memory', 'Redes Naurais Recorrentes',\n",
        "                      mean_absolute_error(test_memory, predictions_memory),\n",
        "                      mean_squared_error(test_memory, predictions_memory),\n",
        "                      r2_score(test_memory, predictions_memory), end_memory-start_memory ]\n",
        "\n",
        "  #Request\n",
        "  start_request = time.time()\n",
        "  predictions_request, test_request = prediction_rnn(df, 'request', 100)\n",
        "  end_request = time.time()\n",
        "\n",
        "  linha = linha + 1\n",
        "  results.loc[linha]=[ 'API '+str(api), 'Request', 'Redes Naurais Recorrentes',\n",
        "                      mean_absolute_error(test_request, predictions_request),\n",
        "                      mean_squared_error(test_request, predictions_request),\n",
        "                      r2_score(test_request, predictions_request), end_request-start_request ]\n",
        "\n",
        "  #Latency\n",
        "  start_latency = time.time()\n",
        "  predictions_latency, test_latency = prediction_rnn(df, 'latency', 100)\n",
        "  end_latency = time.time()\n",
        "\n",
        "  linha = linha + 1\n",
        "  results.loc[linha]=[ 'API '+str(api), 'Latency', 'Redes Naurais Recorrentes',\n",
        "                      mean_absolute_error(test_latency, predictions_latency),\n",
        "                      mean_squared_error(test_latency, predictions_latency),\n",
        "                      r2_score(test_latency, predictions_latency), end_latency-start_latency ]\n",
        "\n",
        "\n",
        "  #Redes Naurais Convolucionais\n",
        "\n",
        "  #CPU\n",
        "  start_cpu = time.time()\n",
        "  predictions_cpu, test_cpu = prediction_cnn(df, 'cpu')\n",
        "  end_cpu = time.time()\n",
        "\n",
        "  linha = linha + 1\n",
        "  results.loc[linha]=[ 'API '+str(api), 'CPU', 'Redes Naurais Convolucionais',\n",
        "                      mean_absolute_error(test_cpu, predictions_cpu),\n",
        "                      mean_squared_error(test_cpu, predictions_cpu),\n",
        "                      r2_score(test_cpu, predictions_cpu), end_cpu-start_cpu ]\n",
        "\n",
        "  #Memory\n",
        "  start_memory = time.time()\n",
        "  predictions_memory, test_memory = prediction_cnn(df, 'memory')\n",
        "  end_memory = time.time()\n",
        "\n",
        "  linha = linha + 1\n",
        "  results.loc[linha]=[ 'API '+str(api), 'Memory', 'Redes Naurais Convolucionais',\n",
        "                      mean_absolute_error(test_memory, predictions_memory),\n",
        "                      mean_squared_error(test_memory, predictions_memory),\n",
        "                      r2_score(test_memory, predictions_memory), end_memory-start_memory ]\n",
        "\n",
        "  #Request\n",
        "  start_request = time.time()\n",
        "  predictions_request, test_request = prediction_cnn(df, 'request')\n",
        "  end_request = time.time()\n",
        "\n",
        "  linha = linha + 1\n",
        "  results.loc[linha]=[ 'API '+str(api), 'Request', 'Redes Naurais Convolucionais',\n",
        "                      mean_absolute_error(test_request, predictions_request),\n",
        "                      mean_squared_error(test_request, predictions_request),\n",
        "                      r2_score(test_request, predictions_request), end_request-start_request ]\n",
        "\n",
        "  #Latency\n",
        "  start_latency = time.time()\n",
        "  predictions_latency, test_latency = prediction_cnn(df, 'latency')\n",
        "  end_latency = time.time()\n",
        "\n",
        "  linha = linha + 1\n",
        "  results.loc[linha]=[ 'API '+str(api), 'Latency', 'Redes Naurais Convolucionais',\n",
        "                      mean_absolute_error(test_latency, predictions_latency),\n",
        "                      mean_squared_error(test_latency, predictions_latency),\n",
        "                      r2_score(test_latency, predictions_latency), end_latency-start_latency ]\n",
        "\n",
        "\n",
        ""
      ]
    },
    {
      "cell_type": "code",
      "execution_count": null,
      "metadata": {
        "id": "Reo4HivOGt-8"
      },
      "outputs": [],
      "source": [
        "results"
      ]
    },
    {
      "cell_type": "code",
      "execution_count": null,
      "metadata": {
        "id": "7kujco3Dja5T"
      },
      "outputs": [],
      "source": [
        "def gerar_csv(results):\n",
        "\n",
        "  csv = results.to_csv('resultados.csv', index=False)\n",
        "\n",
        "  return csv"
      ]
    },
    {
      "cell_type": "code",
      "execution_count": null,
      "metadata": {
        "id": "GrI9SI8dj1nf"
      },
      "outputs": [],
      "source": [
        "gerar_csv(results)"
      ]
    }
  ],
  "metadata": {
    "accelerator": "GPU",
    "colab": {
      "provenance": [],
      "gpuType": "T4"
    },
    "gpuClass": "standard",
    "kernelspec": {
      "display_name": "Python 3",
      "name": "python3"
    },
    "language_info": {
      "name": "python"
    }
  },
  "nbformat": 4,
  "nbformat_minor": 0
}